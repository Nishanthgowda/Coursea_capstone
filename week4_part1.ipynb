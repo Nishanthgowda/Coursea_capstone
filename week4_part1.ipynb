{
 "cells": [
  {
   "cell_type": "markdown",
   "metadata": {},
   "source": [
    "## Problem Background :"
   ]
  },
  {
   "cell_type": "markdown",
   "metadata": {},
   "source": [
    "#### Bangalore is the capital and largest city of the Indian state of Karnataka. With a population of over 15 million (as of January 2016), Bangalore is the third largest city in India and 27th largest city in the world. As population exceds,a whole array of functions are in order day to day most of functions needs a visible gratitude so what more than a flower bookey or boutonniere or tussie mussie etc."
   ]
  },
  {
   "cell_type": "markdown",
   "metadata": {},
   "source": [
    "## Problem Description :"
   ]
  },
  {
   "cell_type": "markdown",
   "metadata": {},
   "source": [
    "#### Suppose i work in an IT firm or in event driven jobs. Day to day events are increasing in banglore as busy life sheduled in peoples life so it would be a great gesture from our side to be gratitudinal for the events.\n",
    "\n",
    "A flowers bookey helps in great way so there so many decors in an around banglore so we need find right place at resonable cost.  So there are few questions that must be addresed, such as :\n",
    "\n",
    "1. The availability of varity of flowers if the flower decos ?\n",
    "2. which is the most nearest to me with good rating ?\n",
    "3. how many types similar flowers are available for me in  flower decos near  by me ?"
   ]
  },
  {
   "cell_type": "markdown",
   "metadata": {},
   "source": [
    "####"
   ]
  }
 ],
 "metadata": {
  "kernelspec": {
   "display_name": "Python 3",
   "language": "python",
   "name": "python3"
  },
  "language_info": {
   "codemirror_mode": {
    "name": "ipython",
    "version": 3
   },
   "file_extension": ".py",
   "mimetype": "text/x-python",
   "name": "python",
   "nbconvert_exporter": "python",
   "pygments_lexer": "ipython3",
   "version": "3.7.6"
  }
 },
 "nbformat": 4,
 "nbformat_minor": 4
}
